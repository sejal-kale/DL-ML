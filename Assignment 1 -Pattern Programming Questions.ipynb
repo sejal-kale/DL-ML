{
 "cells": [
  {
   "cell_type": "markdown",
   "id": "1bcaaf41",
   "metadata": {},
   "source": [
    "# Task 1\n",
    "#  Referral id -  SIRSS2156\n",
    "#  Name - Sejal Nandkishor Kale\n",
    "\n",
    "\n",
    "## 1. Inverted Pyramid pattern with the same digit"
   ]
  },
  {
   "cell_type": "code",
   "execution_count": 1,
   "id": "b6a36ab0",
   "metadata": {},
   "outputs": [
    {
     "name": "stdout",
     "output_type": "stream",
     "text": [
      "5 5 5 5 5 \n",
      "5 5 5 5 \n",
      "5 5 5 \n",
      "5 5 \n",
      "5 \n",
      "\n"
     ]
    }
   ],
   "source": [
    "n=5\n",
    "for i in reversed(range(n+1)):\n",
    "    for j in range(i):\n",
    "        print(\"5\",end=\" \")\n",
    "    print()"
   ]
  },
  {
   "cell_type": "markdown",
   "id": "4dc47144",
   "metadata": {},
   "source": [
    "## 2. Inverted half pyramid pattern with number\n"
   ]
  },
  {
   "cell_type": "code",
   "execution_count": 2,
   "id": "ae36abd3",
   "metadata": {},
   "outputs": [
    {
     "name": "stdout",
     "output_type": "stream",
     "text": [
      "0 1 2 3 4 5 \n",
      "0 1 2 3 4 \n",
      "0 1 2 3 \n",
      "0 1 2 \n",
      "0 1 \n"
     ]
    }
   ],
   "source": [
    "n=5\n",
    "for i in reversed(range(1,n+1)):\n",
    "    for j in range(0,i+1):\n",
    "        print(j,end=\" \")\n",
    "    print()"
   ]
  },
  {
   "cell_type": "markdown",
   "id": "7c517bb9",
   "metadata": {},
   "source": [
    "## 3. Alternate numbers pattern using while loop\n"
   ]
  },
  {
   "cell_type": "code",
   "execution_count": 3,
   "id": "a6039bde",
   "metadata": {},
   "outputs": [
    {
     "name": "stdout",
     "output_type": "stream",
     "text": [
      "1 \n",
      "3 3 \n",
      "5 5 5 \n",
      "7 7 7 7 \n",
      "9 9 9 9 9 \n"
     ]
    }
   ],
   "source": [
    "n=5\n",
    "k=1\n",
    "for i in range(1,n+1):\n",
    "    for j in range(1,i+1):\n",
    "        print(k,end=\" \")\n",
    "    k+=2\n",
    "    print()\n"
   ]
  },
  {
   "cell_type": "markdown",
   "id": "ccbc6c4e",
   "metadata": {},
   "source": [
    "## 4. Reverse Pyramid of Numbers\n"
   ]
  },
  {
   "cell_type": "code",
   "execution_count": 4,
   "id": "b51294ce",
   "metadata": {},
   "outputs": [
    {
     "name": "stdout",
     "output_type": "stream",
     "text": [
      "1 \n",
      "2 1 \n",
      "3 2 1 \n",
      "4 3 2 1 \n",
      "5 4 3 2 1 \n"
     ]
    }
   ],
   "source": [
    "n=5\n",
    "for i in range(1,n+1):\n",
    "    for j in reversed(range(1,i+1)):\n",
    "        print(j,end=\" \")\n",
    "    print()\n",
    "    "
   ]
  },
  {
   "cell_type": "markdown",
   "id": "a84122ff",
   "metadata": {},
   "source": [
    "## 5. Print reverse number from 10 to 1\n"
   ]
  },
  {
   "cell_type": "code",
   "execution_count": 5,
   "id": "9fcf049b",
   "metadata": {},
   "outputs": [
    {
     "name": "stdout",
     "output_type": "stream",
     "text": [
      "1 \n",
      "3 2 \n",
      "6 5 4 \n",
      "10 9 8 7 \n"
     ]
    }
   ],
   "source": [
    "n=4\n",
    "k=0\n",
    "for i in range(1,n+1):\n",
    "    k+=i\n",
    "    c=k\n",
    "    for j in range(i):\n",
    "        print(c ,end=\" \")\n",
    "        c-=1\n",
    "    print()\n",
    "\n"
   ]
  },
  {
   "cell_type": "markdown",
   "id": "399aa1ad",
   "metadata": {},
   "source": [
    "## 6.Pascal’s triangle pattern using numbers\n"
   ]
  },
  {
   "cell_type": "code",
   "execution_count": 6,
   "id": "952f15b7",
   "metadata": {},
   "outputs": [
    {
     "name": "stdout",
     "output_type": "stream",
     "text": [
      "1 \n",
      "1 1 \n",
      "1 2 1 \n",
      "1 3 3 1 \n",
      "1 4 6 4 1 \n",
      "1 5 10 10 5 1 \n",
      "1 6 15 20 15 6 1 \n"
     ]
    }
   ],
   "source": [
    "def printPascal(n) :\n",
    "     \n",
    "    \n",
    "    for line in range(0, n) :\n",
    "         \n",
    "       \n",
    "        for i in range(0, line + 1) :\n",
    "            print(binomial(line, i), end = \" \")\n",
    "        print()\n",
    "     \n",
    " \n",
    "def binomial(n, k) :\n",
    "    res = 1\n",
    "    if (k > n - k) :\n",
    "        k = n - k\n",
    "    for i in range(0 , k) :\n",
    "        res = res * (n - i)\n",
    "        res = res // (i + 1)\n",
    "     \n",
    "    return res\n",
    "n = 7\n",
    "printPascal(n)\n",
    " "
   ]
  },
  {
   "cell_type": "markdown",
   "id": "9d004fb3",
   "metadata": {},
   "source": [
    "## 7.Square pattern with numbers\n"
   ]
  },
  {
   "cell_type": "code",
   "execution_count": 7,
   "id": "03b543d9",
   "metadata": {},
   "outputs": [
    {
     "name": "stdout",
     "output_type": "stream",
     "text": [
      "1 2 3 4 5 \n",
      "2 2 3 4 5 \n",
      "3 3 3 4 5 \n",
      "4 4 4 4 5 \n",
      "5 5 5 5 5 \n"
     ]
    }
   ],
   "source": [
    "n=5\n",
    "for i in range(1,n+1):\n",
    "    for k in range(i):\n",
    "        print(i,end=\" \")\n",
    "    \n",
    "    for j in range(i+1,6):\n",
    "        \n",
    "        print(j,end=\" \")\n",
    "    print()"
   ]
  },
  {
   "cell_type": "markdown",
   "id": "a48ae5c6",
   "metadata": {},
   "source": [
    "## 8.Multiplication table pattern\n"
   ]
  },
  {
   "cell_type": "code",
   "execution_count": 8,
   "id": "e4922507",
   "metadata": {},
   "outputs": [
    {
     "name": "stdout",
     "output_type": "stream",
     "text": [
      "1 \n",
      "2 4 \n",
      "3 6 9 \n",
      "4 8 12 16 \n",
      "5 10 15 20 25 \n",
      "6 12 18 24 30 36 \n",
      "7 14 21 28 35 42 49 \n",
      "8 16 24 32 40 48 56 64 \n"
     ]
    }
   ],
   "source": [
    "n=8\n",
    "for i in range(1,n+1):\n",
    "    k=i\n",
    "    for j in range(1,i+1):\n",
    "        print(k,end=\" \")\n",
    "        k+=i\n",
    "    print()"
   ]
  },
  {
   "cell_type": "markdown",
   "id": "0e293f3e",
   "metadata": {},
   "source": [
    "## 9.Downward full Pyramid Pattern of star\n"
   ]
  },
  {
   "cell_type": "code",
   "execution_count": 9,
   "id": "27a40215",
   "metadata": {},
   "outputs": [
    {
     "name": "stdout",
     "output_type": "stream",
     "text": [
      "        * * * * * * \n",
      "         * * * * * \n",
      "          * * * * \n",
      "           * * * \n",
      "            * * \n",
      "             * \n"
     ]
    }
   ],
   "source": [
    "rows = 5\n",
    "k = 2 * rows - 2\n",
    "for i in reversed(range(rows+1)):\n",
    "    for j in reversed(range(0,k)):\n",
    "        print(end=\" \")\n",
    "    k = k + 1\n",
    "    for j in range(0, i + 1):\n",
    "        print(\"*\", end=\" \")\n",
    "    print(\"\")"
   ]
  },
  {
   "cell_type": "markdown",
   "id": "ac46a647",
   "metadata": {},
   "source": [
    "## 10.Equilateral triangle pattern of star\n"
   ]
  },
  {
   "cell_type": "code",
   "execution_count": 10,
   "id": "c3cac920",
   "metadata": {},
   "outputs": [
    {
     "name": "stdout",
     "output_type": "stream",
     "text": [
      "            *  \n",
      "           *  *  \n",
      "          *  *  *  \n",
      "         *  *  *  *  \n",
      "        *  *  *  *  *  \n",
      "       *  *  *  *  *  *  \n",
      "      *  *  *  *  *  *  *  \n"
     ]
    }
   ],
   "source": [
    "n = 7\n",
    "m = (2 * n) - 2\n",
    "for i in range(0, n):\n",
    "    for j in range(0, m):\n",
    "        print(end=\" \")\n",
    "    m -= 1\n",
    "    for j in range(0, i + 1):\n",
    "        print(\"* \", end=' ')\n",
    "    print()\n",
    " "
   ]
  },
  {
   "cell_type": "markdown",
   "id": "f68cac56",
   "metadata": {},
   "source": [
    "## 11.Print two pyramids of stars\n"
   ]
  },
  {
   "cell_type": "code",
   "execution_count": 11,
   "id": "216d871b",
   "metadata": {},
   "outputs": [
    {
     "name": "stdout",
     "output_type": "stream",
     "text": [
      "* \n",
      "* * \n",
      "* * * \n",
      "* * * * \n",
      "* * * * * \n",
      "* * * * * * \n",
      "\n",
      "* * * * * * \n",
      "* * * * * \n",
      "* * * * \n",
      "* * * \n",
      "* * \n",
      "* \n",
      "\n"
     ]
    }
   ],
   "source": [
    "rows = 6\n",
    "for i in range(0, rows):\n",
    "    for j in range(0, i + 1):\n",
    "        print(\"*\", end=' ')\n",
    "    print()\n",
    "\n",
    "print()\n",
    "\n",
    "for i in range(rows+1,0,-1):\n",
    "    for j in range(0, i - 1):\n",
    "        print(\"*\", end=' ')\n",
    "    print()"
   ]
  },
  {
   "cell_type": "markdown",
   "id": "6a099103",
   "metadata": {},
   "source": [
    "## 12.Right start pattern of star\n"
   ]
  },
  {
   "cell_type": "code",
   "execution_count": 12,
   "id": "94dc4ae2",
   "metadata": {},
   "outputs": [
    {
     "name": "stdout",
     "output_type": "stream",
     "text": [
      "* \n",
      "* * \n",
      "* * * \n",
      "* * * * \n",
      "* * * * * \n",
      "* * * * \n",
      "* * * \n",
      "* * \n",
      "* \n",
      "\n"
     ]
    }
   ],
   "source": [
    "rows = 5\n",
    "for i in range(0, rows):\n",
    "    for j in range(0, i + 1):\n",
    "        print(\"*\", end=' ')\n",
    "    print()\n",
    "\n",
    "for i in range(rows, 0, -1):\n",
    "    for j in range(0, i - 1):\n",
    "        print(\"*\", end=' ')\n",
    "    print()\n",
    " "
   ]
  },
  {
   "cell_type": "markdown",
   "id": "1e8e6081",
   "metadata": {},
   "source": [
    "## 13.Left triangle pascal’s pattern\n"
   ]
  },
  {
   "cell_type": "code",
   "execution_count": 13,
   "id": "b1d7c439",
   "metadata": {},
   "outputs": [
    {
     "name": "stdout",
     "output_type": "stream",
     "text": [
      "        * \n",
      "      * * \n",
      "    * * * \n",
      "  * * * * \n",
      "* * * * * \n",
      "  * * * * \n",
      "    * * * \n",
      "      * * \n",
      "        * \n",
      "          \n"
     ]
    }
   ],
   "source": [
    "rows = 5\n",
    "i = 1\n",
    "while i <= rows:\n",
    "    j = i\n",
    "    while j < rows:\n",
    "        \n",
    "        print(' ', end=' ')\n",
    "        j += 1\n",
    "    k = 1\n",
    "    while k <= i:\n",
    "        print('*', end=' ')\n",
    "        k += 1\n",
    "    print()\n",
    "    i += 1\n",
    "\n",
    "i = rows\n",
    "while i >= 1:\n",
    "    j = i\n",
    "    while j <= rows:\n",
    "        print(' ', end=' ')\n",
    "        j += 1\n",
    "    k = 1\n",
    "    while k < i:\n",
    "        print('*', end=' ')\n",
    "        k += 1\n",
    "    print()\n",
    "    i -= 1"
   ]
  },
  {
   "cell_type": "markdown",
   "id": "2e9914bf",
   "metadata": {},
   "source": [
    "## 14.Sandglass pattern of star\n"
   ]
  },
  {
   "cell_type": "code",
   "execution_count": 14,
   "id": "86ac82ab",
   "metadata": {},
   "outputs": [
    {
     "name": "stdout",
     "output_type": "stream",
     "text": [
      "* * * * * \n",
      " * * * * \n",
      "  * * * \n",
      "   * * \n",
      "    * \n",
      "    * \n",
      "   * * \n",
      "  * * * \n",
      " * * * * \n",
      "* * * * * \n"
     ]
    }
   ],
   "source": [
    "rows = 5\n",
    "i = 0\n",
    "while i <= rows - 1:\n",
    "    j = 0\n",
    "    while j < i:\n",
    "        print('', end=' ')\n",
    "        j += 1\n",
    "    k = i\n",
    "    while k <= rows - 1:\n",
    "        print('*', end=' ')\n",
    "        k += 1\n",
    "    print()\n",
    "    i += 1\n",
    "\n",
    "i = rows - 1\n",
    "while i >= 0:\n",
    "    j = 0\n",
    "    while j < i:\n",
    "        print('', end=' ')\n",
    "        j += 1\n",
    "    k = i\n",
    "    while k <= rows - 1:\n",
    "        print('*', end=' ')\n",
    "        k += 1\n",
    "    print()\n",
    "    i -= 1"
   ]
  },
  {
   "cell_type": "markdown",
   "id": "b1542dbd",
   "metadata": {},
   "source": [
    "## 15. Pant style pattern of stars\n"
   ]
  },
  {
   "cell_type": "code",
   "execution_count": 15,
   "id": "dbbc4d14",
   "metadata": {},
   "outputs": [
    {
     "name": "stdout",
     "output_type": "stream",
     "text": [
      "**************\n",
      "******__******\n",
      "*****____*****\n",
      "****______****\n",
      "***________***\n",
      "**__________**\n",
      "*____________*\n"
     ]
    }
   ],
   "source": [
    "rows = 14\n",
    "print(\"*\" * rows, end=\"\\n\")\n",
    "i = (rows // 2) - 1\n",
    "j = 2\n",
    "while i != 0:\n",
    "    while j <= (rows - 2):\n",
    "        print(\"*\" * i, end=\"\")\n",
    "        print(\"_\" * j, end=\"\")\n",
    "        print(\"*\" * i, end=\"\\n\")\n",
    "        i = i - 1\n",
    "        j = j + 2\n",
    "        "
   ]
  },
  {
   "cell_type": "code",
   "execution_count": null,
   "id": "080d8e82",
   "metadata": {},
   "outputs": [],
   "source": []
  }
 ],
 "metadata": {
  "kernelspec": {
   "display_name": "Python 3",
   "language": "python",
   "name": "python3"
  },
  "language_info": {
   "codemirror_mode": {
    "name": "ipython",
    "version": 3
   },
   "file_extension": ".py",
   "mimetype": "text/x-python",
   "name": "python",
   "nbconvert_exporter": "python",
   "pygments_lexer": "ipython3",
   "version": "3.9.4"
  }
 },
 "nbformat": 4,
 "nbformat_minor": 5
}
